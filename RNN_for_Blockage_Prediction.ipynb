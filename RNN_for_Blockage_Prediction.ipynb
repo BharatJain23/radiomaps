{
 "cells": [
  {
   "cell_type": "code",
   "execution_count": 2,
   "id": "1da263dd",
   "metadata": {},
   "outputs": [],
   "source": [
    "import os\n",
    "import numpy as np\n",
    "import pandas as pd\n",
    "import random \n",
    "import time\n",
    "import matplotlib.pyplot as plt\n",
    "import tensorflow as tf\n",
    "from tensorflow.keras.models import Sequential\n",
    "from tensorflow.keras.layers import Dense, Dropout, LSTM\n",
    "from glob import glob\n",
    "%matplotlib inline"
   ]
  },
  {
   "cell_type": "code",
   "execution_count": 3,
   "id": "90e91761",
   "metadata": {},
   "outputs": [],
   "source": [
    "list_of_df = glob(\"line_of_sight_data_*\")"
   ]
  },
  {
   "cell_type": "code",
   "execution_count": 4,
   "id": "09972a8c",
   "metadata": {},
   "outputs": [
    {
     "data": {
      "text/plain": [
       "['line_of_sight_data_1.csv',\n",
       " 'line_of_sight_data_2.csv',\n",
       " 'line_of_sight_data_3.csv',\n",
       " 'line_of_sight_data_4.csv',\n",
       " 'line_of_sight_data_5.csv']"
      ]
     },
     "execution_count": 4,
     "metadata": {},
     "output_type": "execute_result"
    }
   ],
   "source": [
    "list_of_df"
   ]
  },
  {
   "cell_type": "code",
   "execution_count": 5,
   "id": "d178158a",
   "metadata": {},
   "outputs": [],
   "source": [
    "list_df = [pd.read_csv(csvPath) for csvPath in list_of_df]"
   ]
  },
  {
   "cell_type": "code",
   "execution_count": 62,
   "id": "eb8b904d",
   "metadata": {},
   "outputs": [
    {
     "data": {
      "text/html": [
       "<div>\n",
       "<style scoped>\n",
       "    .dataframe tbody tr th:only-of-type {\n",
       "        vertical-align: middle;\n",
       "    }\n",
       "\n",
       "    .dataframe tbody tr th {\n",
       "        vertical-align: top;\n",
       "    }\n",
       "\n",
       "    .dataframe thead th {\n",
       "        text-align: right;\n",
       "    }\n",
       "</style>\n",
       "<table border=\"1\" class=\"dataframe\">\n",
       "  <thead>\n",
       "    <tr style=\"text-align: right;\">\n",
       "      <th></th>\n",
       "      <th>Unnamed: 0</th>\n",
       "      <th>Frame</th>\n",
       "      <th>Time_Stamp</th>\n",
       "      <th>BS1_coords</th>\n",
       "      <th>BS2_coords</th>\n",
       "      <th>Main_Obj_Coords</th>\n",
       "      <th>Obstacle1</th>\n",
       "      <th>Obstacle2</th>\n",
       "      <th>LOS_BS1</th>\n",
       "      <th>LOS_BS2</th>\n",
       "    </tr>\n",
       "  </thead>\n",
       "  <tbody>\n",
       "    <tr>\n",
       "      <th>0</th>\n",
       "      <td>0</td>\n",
       "      <td>1</td>\n",
       "      <td>0.01</td>\n",
       "      <td>(97, 61)</td>\n",
       "      <td>(202, 164)</td>\n",
       "      <td>(0, 140)</td>\n",
       "      <td>(-1, -1)</td>\n",
       "      <td>(80, 130)</td>\n",
       "      <td>1</td>\n",
       "      <td>1</td>\n",
       "    </tr>\n",
       "    <tr>\n",
       "      <th>1</th>\n",
       "      <td>1</td>\n",
       "      <td>2</td>\n",
       "      <td>0.02</td>\n",
       "      <td>(97, 61)</td>\n",
       "      <td>(202, 164)</td>\n",
       "      <td>(0, 140)</td>\n",
       "      <td>(-1, -1)</td>\n",
       "      <td>(80, 130)</td>\n",
       "      <td>1</td>\n",
       "      <td>1</td>\n",
       "    </tr>\n",
       "    <tr>\n",
       "      <th>2</th>\n",
       "      <td>2</td>\n",
       "      <td>3</td>\n",
       "      <td>0.03</td>\n",
       "      <td>(97, 61)</td>\n",
       "      <td>(202, 164)</td>\n",
       "      <td>(0, 140)</td>\n",
       "      <td>(-1, -1)</td>\n",
       "      <td>(80, 130)</td>\n",
       "      <td>1</td>\n",
       "      <td>1</td>\n",
       "    </tr>\n",
       "    <tr>\n",
       "      <th>3</th>\n",
       "      <td>3</td>\n",
       "      <td>4</td>\n",
       "      <td>0.04</td>\n",
       "      <td>(97, 61)</td>\n",
       "      <td>(202, 164)</td>\n",
       "      <td>(0, 140)</td>\n",
       "      <td>(-1, -1)</td>\n",
       "      <td>(80, 130)</td>\n",
       "      <td>1</td>\n",
       "      <td>1</td>\n",
       "    </tr>\n",
       "    <tr>\n",
       "      <th>4</th>\n",
       "      <td>4</td>\n",
       "      <td>5</td>\n",
       "      <td>0.05</td>\n",
       "      <td>(97, 61)</td>\n",
       "      <td>(202, 164)</td>\n",
       "      <td>(0, 140)</td>\n",
       "      <td>(-1, -1)</td>\n",
       "      <td>(80, 130)</td>\n",
       "      <td>1</td>\n",
       "      <td>1</td>\n",
       "    </tr>\n",
       "    <tr>\n",
       "      <th>5</th>\n",
       "      <td>5</td>\n",
       "      <td>6</td>\n",
       "      <td>0.06</td>\n",
       "      <td>(97, 61)</td>\n",
       "      <td>(202, 164)</td>\n",
       "      <td>(0, 140)</td>\n",
       "      <td>(-1, -1)</td>\n",
       "      <td>(80, 130)</td>\n",
       "      <td>1</td>\n",
       "      <td>1</td>\n",
       "    </tr>\n",
       "    <tr>\n",
       "      <th>6</th>\n",
       "      <td>6</td>\n",
       "      <td>7</td>\n",
       "      <td>0.07</td>\n",
       "      <td>(97, 61)</td>\n",
       "      <td>(202, 164)</td>\n",
       "      <td>(1, 140)</td>\n",
       "      <td>(-1, -1)</td>\n",
       "      <td>(80, 130)</td>\n",
       "      <td>1</td>\n",
       "      <td>1</td>\n",
       "    </tr>\n",
       "    <tr>\n",
       "      <th>7</th>\n",
       "      <td>7</td>\n",
       "      <td>8</td>\n",
       "      <td>0.08</td>\n",
       "      <td>(97, 61)</td>\n",
       "      <td>(202, 164)</td>\n",
       "      <td>(1, 140)</td>\n",
       "      <td>(-1, -1)</td>\n",
       "      <td>(80, 130)</td>\n",
       "      <td>1</td>\n",
       "      <td>1</td>\n",
       "    </tr>\n",
       "    <tr>\n",
       "      <th>8</th>\n",
       "      <td>8</td>\n",
       "      <td>9</td>\n",
       "      <td>0.09</td>\n",
       "      <td>(97, 61)</td>\n",
       "      <td>(202, 164)</td>\n",
       "      <td>(1, 140)</td>\n",
       "      <td>(-1, -1)</td>\n",
       "      <td>(80, 130)</td>\n",
       "      <td>1</td>\n",
       "      <td>1</td>\n",
       "    </tr>\n",
       "    <tr>\n",
       "      <th>9</th>\n",
       "      <td>9</td>\n",
       "      <td>10</td>\n",
       "      <td>0.10</td>\n",
       "      <td>(97, 61)</td>\n",
       "      <td>(202, 164)</td>\n",
       "      <td>(1, 140)</td>\n",
       "      <td>(-1, -1)</td>\n",
       "      <td>(80, 130)</td>\n",
       "      <td>1</td>\n",
       "      <td>1</td>\n",
       "    </tr>\n",
       "  </tbody>\n",
       "</table>\n",
       "</div>"
      ],
      "text/plain": [
       "   Unnamed: 0  Frame  Time_Stamp BS1_coords  BS2_coords Main_Obj_Coords  \\\n",
       "0           0      1        0.01   (97, 61)  (202, 164)        (0, 140)   \n",
       "1           1      2        0.02   (97, 61)  (202, 164)        (0, 140)   \n",
       "2           2      3        0.03   (97, 61)  (202, 164)        (0, 140)   \n",
       "3           3      4        0.04   (97, 61)  (202, 164)        (0, 140)   \n",
       "4           4      5        0.05   (97, 61)  (202, 164)        (0, 140)   \n",
       "5           5      6        0.06   (97, 61)  (202, 164)        (0, 140)   \n",
       "6           6      7        0.07   (97, 61)  (202, 164)        (1, 140)   \n",
       "7           7      8        0.08   (97, 61)  (202, 164)        (1, 140)   \n",
       "8           8      9        0.09   (97, 61)  (202, 164)        (1, 140)   \n",
       "9           9     10        0.10   (97, 61)  (202, 164)        (1, 140)   \n",
       "\n",
       "  Obstacle1  Obstacle2  LOS_BS1  LOS_BS2  \n",
       "0  (-1, -1)  (80, 130)        1        1  \n",
       "1  (-1, -1)  (80, 130)        1        1  \n",
       "2  (-1, -1)  (80, 130)        1        1  \n",
       "3  (-1, -1)  (80, 130)        1        1  \n",
       "4  (-1, -1)  (80, 130)        1        1  \n",
       "5  (-1, -1)  (80, 130)        1        1  \n",
       "6  (-1, -1)  (80, 130)        1        1  \n",
       "7  (-1, -1)  (80, 130)        1        1  \n",
       "8  (-1, -1)  (80, 130)        1        1  \n",
       "9  (-1, -1)  (80, 130)        1        1  "
      ]
     },
     "execution_count": 62,
     "metadata": {},
     "output_type": "execute_result"
    }
   ],
   "source": [
    "tdf = list_df[0]\n",
    "tdf[:10]"
   ]
  },
  {
   "cell_type": "code",
   "execution_count": 31,
   "id": "f213237a",
   "metadata": {},
   "outputs": [],
   "source": [
    "tdf=tdf.iloc[:1530]"
   ]
  },
  {
   "cell_type": "code",
   "execution_count": 32,
   "id": "4b37a9d5",
   "metadata": {},
   "outputs": [],
   "source": [
    "req_cols = [\"Time_Stamp\", \"Main_Obj_Coords\", \"BS1_coords\", \"Obstacle1\", \"Obstacle2\", \"LOS_BS1\"]"
   ]
  },
  {
   "cell_type": "code",
   "execution_count": 33,
   "id": "e6079956",
   "metadata": {},
   "outputs": [],
   "source": [
    "tdf = tdf[req_cols]"
   ]
  },
  {
   "cell_type": "code",
   "execution_count": 34,
   "id": "3fe248cc",
   "metadata": {},
   "outputs": [
    {
     "name": "stdout",
     "output_type": "stream",
     "text": [
      "0 : Time_Stamp\n",
      "1 : Main_Obj_Coords\n",
      "2 : BS1_coords\n",
      "3 : Obstacle1\n",
      "4 : Obstacle2\n",
      "5 : LOS_BS1\n"
     ]
    }
   ],
   "source": [
    "for i,row in enumerate(tdf):\n",
    "    print(i,\":\",row)"
   ]
  },
  {
   "cell_type": "code",
   "execution_count": 53,
   "id": "add9637c",
   "metadata": {},
   "outputs": [
    {
     "data": {
      "text/plain": [
       "1"
      ]
     },
     "execution_count": 53,
     "metadata": {},
     "output_type": "execute_result"
    }
   ],
   "source": [
    "tdf.iloc[0][\"LOS_BS1\"]"
   ]
  },
  {
   "cell_type": "code",
   "execution_count": 48,
   "id": "7c2205ad",
   "metadata": {},
   "outputs": [
    {
     "data": {
      "text/plain": [
       "'0, 140'"
      ]
     },
     "execution_count": 48,
     "metadata": {},
     "output_type": "execute_result"
    }
   ],
   "source": [
    "(tdf.iloc[0][\"Main_Obj_Coords\"])[1:-1]"
   ]
  },
  {
   "cell_type": "code",
   "execution_count": 49,
   "id": "caf68efc",
   "metadata": {},
   "outputs": [],
   "source": [
    "x,y=tuple(map(int, '-1, -1'.split(',')))"
   ]
  },
  {
   "cell_type": "code",
   "execution_count": 51,
   "id": "6f3c4424",
   "metadata": {},
   "outputs": [
    {
     "data": {
      "text/plain": [
       "-1"
      ]
     },
     "execution_count": 51,
     "metadata": {},
     "output_type": "execute_result"
    }
   ],
   "source": [
    "x"
   ]
  },
  {
   "cell_type": "code",
   "execution_count": 54,
   "id": "a10e93e2",
   "metadata": {},
   "outputs": [
    {
     "data": {
      "text/plain": [
       "[9, 5]"
      ]
     },
     "execution_count": 54,
     "metadata": {},
     "output_type": "execute_result"
    }
   ],
   "source": [
    "list((9,5))"
   ]
  },
  {
   "cell_type": "code",
   "execution_count": 28,
   "id": "8e8c990e",
   "metadata": {},
   "outputs": [],
   "source": [
    "def euclidean_dist(point1, point2):\n",
    "    p1 = np.array(point1)\n",
    "    p2 = np.array(point2)\n",
    "    dist = np.linalg.norm(p1 - p2)\n",
    "    return dist"
   ]
  },
  {
   "cell_type": "code",
   "execution_count": 55,
   "id": "1abf6d13",
   "metadata": {},
   "outputs": [],
   "source": [
    "def create_data(list_df, req_cols):\n",
    "    data_list1 = []\n",
    "    data_list2 = []\n",
    "    for df in list_df:\n",
    "        data1 = []\n",
    "        data2 = []\n",
    "        df = df[req_cols]\n",
    "        df = df.iloc[:len(df)-6]\n",
    "        for i in range(len(df)):\n",
    "            temp1 = []\n",
    "            temp2 = []\n",
    "            time = df.iloc[i][\"Time_Stamp\"]\n",
    "            main_x, main_y = tuple(map(int, ((df.iloc[i][\"Main_Obj_Coords\"])[1:-1]).split(',')))\n",
    "            bs_coords = tuple(map(int, ((df.iloc[i][\"BS1_coords\"])[1:-1]).split(',')))\n",
    "            obs1_coords = tuple(map(int, ((df.iloc[i][\"Obstacle1\"])[1:-1]).split(',')))\n",
    "            obs2_coords = tuple(map(int, ((df.iloc[i][\"Obstacle2\"])[1:-1]).split(',')))\n",
    "            dist_from_bs = euclidean_dist((main_x, main_y), bs_coords)\n",
    "            dist_from_obs1 = euclidean_dist((main_x, main_y), obs1_coords)\n",
    "            dist_from_obs2 = euclidean_dist((main_x, main_y), obs2_coords)\n",
    "            los_bs1 = df.iloc[i][\"LOS_BS1\"]\n",
    "            temp1.append(time)\n",
    "            temp2.append(time)\n",
    "            temp1.append(main_x)\n",
    "            temp1.append(main_y)\n",
    "            temp2.append(main_x)\n",
    "            temp2.append(main_y)\n",
    "            temp1.append(dist_from_bs)\n",
    "            temp1.append(dist_from_obs1)\n",
    "            temp1.append(dist_from_obs2)\n",
    "            temp2 += list(bs_coords)\n",
    "            temp2 += list(obs1_coords)\n",
    "            temp2 += list(obs2_coords)\n",
    "            temp1.append(los_bs1)\n",
    "            temp2.append(los_bs1)\n",
    "            data1.append(temp1)\n",
    "            data2.append(temp2)\n",
    "        data_list1.append(data1)\n",
    "        data_list2.append(data2)\n",
    "    return data_list1, data_list2"
   ]
  },
  {
   "cell_type": "code",
   "execution_count": 56,
   "id": "82eb6a3b",
   "metadata": {},
   "outputs": [],
   "source": [
    "data_list1, data_list2 = create_data(list_df, req_cols)"
   ]
  },
  {
   "cell_type": "code",
   "execution_count": 57,
   "id": "59921fcb",
   "metadata": {},
   "outputs": [],
   "source": [
    "data_list1 = np.array(data_list1)\n",
    "data_list2 = np.array(data_list2)"
   ]
  },
  {
   "cell_type": "code",
   "execution_count": 65,
   "id": "74e4e6be",
   "metadata": {},
   "outputs": [
    {
     "data": {
      "text/plain": [
       "array([[1.00000000e-02, 0.00000000e+00, 1.40000000e+02, ...,\n",
       "        1.41003546e+02, 8.06225775e+01, 1.00000000e+00],\n",
       "       [2.00000000e-02, 0.00000000e+00, 1.40000000e+02, ...,\n",
       "        1.41003546e+02, 8.06225775e+01, 1.00000000e+00],\n",
       "       [3.00000000e-02, 0.00000000e+00, 1.40000000e+02, ...,\n",
       "        1.41003546e+02, 8.06225775e+01, 1.00000000e+00],\n",
       "       ...,\n",
       "       [1.52800000e+01, 2.54000000e+02, 1.40000000e+02, ...,\n",
       "        2.91386341e+02, 4.80520551e+01, 0.00000000e+00],\n",
       "       [1.52900000e+01, 2.54000000e+02, 1.40000000e+02, ...,\n",
       "        2.91386341e+02, 4.80520551e+01, 0.00000000e+00],\n",
       "       [1.53000000e+01, 2.54000000e+02, 1.40000000e+02, ...,\n",
       "        2.91386341e+02, 4.80520551e+01, 0.00000000e+00]])"
      ]
     },
     "execution_count": 65,
     "metadata": {},
     "output_type": "execute_result"
    }
   ],
   "source": [
    "data_list1[0]"
   ]
  },
  {
   "cell_type": "code",
   "execution_count": 69,
   "id": "ea7abb8d",
   "metadata": {},
   "outputs": [],
   "source": [
    "datax = [i.tolist()[:-1] for i in data_list1[0]]\n",
    "datay = [i.tolist()[-1] for i in data_list1[0]]"
   ]
  },
  {
   "cell_type": "code",
   "execution_count": 74,
   "id": "6ec5663e",
   "metadata": {},
   "outputs": [
    {
     "data": {
      "text/plain": [
       "[[0.01, 0.0, 140.0, 125.09996003196804, 141.00354605470034, 80.62257748298549],\n",
       " [0.02, 0.0, 140.0, 125.09996003196804, 141.00354605470034, 80.62257748298549],\n",
       " [0.03, 0.0, 140.0, 125.09996003196804, 141.00354605470034, 80.62257748298549],\n",
       " [0.04, 0.0, 140.0, 125.09996003196804, 141.00354605470034, 80.62257748298549],\n",
       " [0.05, 0.0, 140.0, 125.09996003196804, 141.00354605470034, 80.62257748298549],\n",
       " [0.06, 0.0, 140.0, 125.09996003196804, 141.00354605470034, 80.62257748298549],\n",
       " [0.07, 1.0, 140.0, 124.32618388738553, 141.01418368376991, 79.63039620647382],\n",
       " [0.08, 1.0, 140.0, 124.32618388738553, 141.01418368376991, 79.63039620647382],\n",
       " [0.09, 1.0, 140.0, 124.32618388738553, 141.01418368376991, 79.63039620647382]]"
      ]
     },
     "execution_count": 74,
     "metadata": {},
     "output_type": "execute_result"
    }
   ],
   "source": [
    "datax[:9]"
   ]
  },
  {
   "cell_type": "code",
   "execution_count": 66,
   "id": "1f0b4047",
   "metadata": {},
   "outputs": [],
   "source": [
    "timestep = 9"
   ]
  },
  {
   "cell_type": "code",
   "execution_count": 77,
   "id": "da22278e",
   "metadata": {},
   "outputs": [],
   "source": [
    "def createTrainDatasetFromData(timestep, data):\n",
    "    datax = [i.tolist()[:-1] for i in data]\n",
    "    datay = [i.tolist()[-1] for i in data]\n",
    "    X = []\n",
    "    y = []\n",
    "    for i in range(len(data)-timestep):\n",
    "        X.append(datax[i:i+timestep])\n",
    "        y.append(datay[i+timestep])\n",
    "    return X,y"
   ]
  },
  {
   "cell_type": "code",
   "execution_count": 84,
   "id": "6cc4738d",
   "metadata": {},
   "outputs": [],
   "source": [
    "def createTrainDataset(timestep, data_list):\n",
    "    X = []\n",
    "    y = []\n",
    "    for data in data_list:\n",
    "        tx,ty = createTrainDatasetFromData(timestep, data)\n",
    "        X += tx\n",
    "        y += ty\n",
    "    return X, y"
   ]
  },
  {
   "cell_type": "code",
   "execution_count": 114,
   "id": "a38ca11e",
   "metadata": {},
   "outputs": [],
   "source": [
    "timestep = 100"
   ]
  },
  {
   "cell_type": "code",
   "execution_count": 115,
   "id": "e2afc4f9",
   "metadata": {},
   "outputs": [],
   "source": [
    "X1, y1 = createTrainDataset(timestep, data_list1)\n",
    "X2, y2 = createTrainDataset(timestep, data_list2)"
   ]
  },
  {
   "cell_type": "code",
   "execution_count": 116,
   "id": "f6093381",
   "metadata": {},
   "outputs": [],
   "source": [
    "fX1, fy1 = np.array(X1), np.array(y1)\n",
    "fX2, fy2 = np.array(X2), np.array(y2)"
   ]
  },
  {
   "cell_type": "code",
   "execution_count": null,
   "id": "3700b2a4",
   "metadata": {},
   "outputs": [],
   "source": []
  },
  {
   "cell_type": "code",
   "execution_count": 122,
   "id": "89a48387",
   "metadata": {},
   "outputs": [],
   "source": [
    "def LSTM_Model(inp_shape):\n",
    "    \n",
    "    model = Sequential()\n",
    "    \n",
    "    model.add(LSTM(units=64, input_shape=inp_shape, activation='relu', return_sequences=True))\n",
    "#     model.add(Dropout(0.2))\n",
    "    \n",
    "    model.add(LSTM(units=64, activation='relu', return_sequences=True))\n",
    "#     model.add(Dropout(0.2))\n",
    "    \n",
    "    model.add(LSTM(units=64, activation='relu'))\n",
    "#     model.add(Dropout(0.2))\n",
    "    \n",
    "#     model.add(CuDNNLSTM(units=64, input_shape=inp_shape, return_sequences=True))\n",
    "#     model.add(Dropout(0.2))\n",
    "    \n",
    "#     model.add(CuDNNLSTM(units=64, return_sequences=True))\n",
    "#     model.add(Dropout(0.2))\n",
    "    \n",
    "#     model.add(CuDNNLSTM(units=64))\n",
    "#     model.add(Dropout(0.2))\n",
    "    \n",
    "    model.add(Dense(units=128, activation='relu'))\n",
    "#     model.add(Dropout(0.2))\n",
    "    \n",
    "    model.add(Dense(units=64, activation='relu'))\n",
    "#     model.add(Dropout(0.2))\n",
    "    \n",
    "    model.add(Dense(units=1, activation='softmax'))\n",
    "        \n",
    "    model.compile(loss='binary_crossentropy',\n",
    "                  optimizer='Adam',\n",
    "                  metrics=['accuracy'])\n",
    "    \n",
    "    return model"
   ]
  },
  {
   "cell_type": "code",
   "execution_count": 123,
   "id": "02ac2c78",
   "metadata": {},
   "outputs": [
    {
     "data": {
      "text/plain": [
       "(100, 9)"
      ]
     },
     "execution_count": 123,
     "metadata": {},
     "output_type": "execute_result"
    }
   ],
   "source": [
    "inp_shape = fX2.shape[1:]\n",
    "inp_shape"
   ]
  },
  {
   "cell_type": "code",
   "execution_count": 124,
   "id": "1047075b",
   "metadata": {},
   "outputs": [
    {
     "name": "stdout",
     "output_type": "stream",
     "text": [
      "WARNING:tensorflow:Layer lstm_12 will not use cuDNN kernels since it doesn't meet the criteria. It will use a generic GPU kernel as fallback when running on GPU.\n",
      "WARNING:tensorflow:Layer lstm_13 will not use cuDNN kernels since it doesn't meet the criteria. It will use a generic GPU kernel as fallback when running on GPU.\n",
      "WARNING:tensorflow:Layer lstm_14 will not use cuDNN kernels since it doesn't meet the criteria. It will use a generic GPU kernel as fallback when running on GPU.\n"
     ]
    }
   ],
   "source": [
    "lstm_model = LSTM_Model(inp_shape)"
   ]
  },
  {
   "cell_type": "code",
   "execution_count": 125,
   "id": "a097d418",
   "metadata": {},
   "outputs": [
    {
     "name": "stdout",
     "output_type": "stream",
     "text": [
      "Epoch 1/10\n",
      "224/224 [==============================] - 166s 727ms/step - loss: nan - accuracy: 0.6531\n",
      "Epoch 2/10\n",
      "224/224 [==============================] - 164s 734ms/step - loss: nan - accuracy: 0.6559\n",
      "Epoch 3/10\n",
      "224/224 [==============================] - 177s 789ms/step - loss: nan - accuracy: 0.6559\n",
      "Epoch 4/10\n",
      "224/224 [==============================] - 167s 747ms/step - loss: nan - accuracy: 0.6559\n",
      "Epoch 5/10\n",
      "224/224 [==============================] - 158s 705ms/step - loss: nan - accuracy: 0.6559\n",
      "Epoch 6/10\n",
      "224/224 [==============================] - 167s 744ms/step - loss: nan - accuracy: 0.6559\n",
      "Epoch 7/10\n",
      "224/224 [==============================] - 180s 806ms/step - loss: nan - accuracy: 0.6559\n",
      "Epoch 8/10\n",
      "224/224 [==============================] - 175s 783ms/step - loss: nan - accuracy: 0.6559\n",
      "Epoch 9/10\n",
      "224/224 [==============================] - 173s 772ms/step - loss: nan - accuracy: 0.6559\n",
      "Epoch 10/10\n",
      "224/224 [==============================] - 176s 784ms/step - loss: nan - accuracy: 0.6559\n"
     ]
    },
    {
     "data": {
      "text/plain": [
       "<keras.callbacks.History at 0x2898a1c6a30>"
      ]
     },
     "execution_count": 125,
     "metadata": {},
     "output_type": "execute_result"
    }
   ],
   "source": [
    "lstm_model.fit(fX2, fy2, epochs=10, batch_size=32)"
   ]
  },
  {
   "cell_type": "code",
   "execution_count": null,
   "id": "79f5edab",
   "metadata": {},
   "outputs": [],
   "source": []
  }
 ],
 "metadata": {
  "kernelspec": {
   "display_name": "Python 3 (ipykernel)",
   "language": "python",
   "name": "python3"
  },
  "language_info": {
   "codemirror_mode": {
    "name": "ipython",
    "version": 3
   },
   "file_extension": ".py",
   "mimetype": "text/x-python",
   "name": "python",
   "nbconvert_exporter": "python",
   "pygments_lexer": "ipython3",
   "version": "3.9.12"
  }
 },
 "nbformat": 4,
 "nbformat_minor": 5
}
